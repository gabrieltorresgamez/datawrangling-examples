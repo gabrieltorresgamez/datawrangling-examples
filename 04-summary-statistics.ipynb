{
 "cells": [
  {
   "cell_type": "code",
   "execution_count": 1,
   "id": "0860dce0",
   "metadata": {},
   "outputs": [],
   "source": [
    "import pandas as pd"
   ]
  },
  {
   "cell_type": "code",
   "execution_count": 2,
   "id": "58491b44",
   "metadata": {},
   "outputs": [],
   "source": [
    "data = pd.read_csv(\"20220213_VolksabstimmungStempelabgaben.csv\", delimiter = \";\")"
   ]
  },
  {
   "cell_type": "code",
   "execution_count": 3,
   "id": "6a4e7b33",
   "metadata": {},
   "outputs": [
    {
     "name": "stdout",
     "output_type": "stream",
     "text": [
      "<class 'pandas.core.frame.DataFrame'>\n",
      "RangeIndex: 2156 entries, 0 to 2155\n",
      "Data columns (total 13 columns):\n",
      " #   Column                  Non-Null Count  Dtype  \n",
      "---  ------                  --------------  -----  \n",
      " 0   Kantons-Nummer          2156 non-null   int64  \n",
      " 1   Kanton                  2156 non-null   object \n",
      " 2   Gemeinde-Nummer         2156 non-null   int64  \n",
      " 3   Gemeinde                2156 non-null   object \n",
      " 4   Stimmberechtigte        2156 non-null   object \n",
      " 5   eingelegte Stimmzettel  2156 non-null   object \n",
      " 6   Stimmbeteiligung        2156 non-null   float64\n",
      " 7   leere Stimmzettel       2156 non-null   object \n",
      " 8   ungültige Stimmzettel   2156 non-null   int64  \n",
      " 9   gültige Stimmen         2156 non-null   object \n",
      " 10  Ja-Stimmen              2156 non-null   object \n",
      " 11  Nein-Stimmen            2156 non-null   object \n",
      " 12  Ja in Prozent           2156 non-null   float64\n",
      "dtypes: float64(2), int64(3), object(8)\n",
      "memory usage: 219.1+ KB\n"
     ]
    }
   ],
   "source": [
    "data.info()"
   ]
  },
  {
   "cell_type": "code",
   "execution_count": 4,
   "id": "d4b335b2",
   "metadata": {},
   "outputs": [
    {
     "data": {
      "text/html": [
       "<div>\n",
       "<style scoped>\n",
       "    .dataframe tbody tr th:only-of-type {\n",
       "        vertical-align: middle;\n",
       "    }\n",
       "\n",
       "    .dataframe tbody tr th {\n",
       "        vertical-align: top;\n",
       "    }\n",
       "\n",
       "    .dataframe thead th {\n",
       "        text-align: right;\n",
       "    }\n",
       "</style>\n",
       "<table border=\"1\" class=\"dataframe\">\n",
       "  <thead>\n",
       "    <tr style=\"text-align: right;\">\n",
       "      <th></th>\n",
       "      <th>Kantons-Nummer</th>\n",
       "      <th>Gemeinde-Nummer</th>\n",
       "      <th>Stimmbeteiligung</th>\n",
       "      <th>ungültige Stimmzettel</th>\n",
       "      <th>Ja in Prozent</th>\n",
       "    </tr>\n",
       "  </thead>\n",
       "  <tbody>\n",
       "    <tr>\n",
       "      <th>count</th>\n",
       "      <td>2156.000000</td>\n",
       "      <td>2156.000000</td>\n",
       "      <td>2156.000000</td>\n",
       "      <td>2156.000000</td>\n",
       "      <td>2156.000000</td>\n",
       "    </tr>\n",
       "    <tr>\n",
       "      <th>mean</th>\n",
       "      <td>13.642393</td>\n",
       "      <td>3329.145640</td>\n",
       "      <td>44.463868</td>\n",
       "      <td>4.400742</td>\n",
       "      <td>37.791976</td>\n",
       "    </tr>\n",
       "    <tr>\n",
       "      <th>std</th>\n",
       "      <td>8.475139</td>\n",
       "      <td>2170.042968</td>\n",
       "      <td>7.001858</td>\n",
       "      <td>14.789470</td>\n",
       "      <td>7.798848</td>\n",
       "    </tr>\n",
       "    <tr>\n",
       "      <th>min</th>\n",
       "      <td>1.000000</td>\n",
       "      <td>1.000000</td>\n",
       "      <td>20.900000</td>\n",
       "      <td>0.000000</td>\n",
       "      <td>0.000000</td>\n",
       "    </tr>\n",
       "    <tr>\n",
       "      <th>25%</th>\n",
       "      <td>3.000000</td>\n",
       "      <td>1084.750000</td>\n",
       "      <td>40.000000</td>\n",
       "      <td>0.000000</td>\n",
       "      <td>32.700000</td>\n",
       "    </tr>\n",
       "    <tr>\n",
       "      <th>50%</th>\n",
       "      <td>17.000000</td>\n",
       "      <td>3338.500000</td>\n",
       "      <td>44.000000</td>\n",
       "      <td>0.000000</td>\n",
       "      <td>37.200000</td>\n",
       "    </tr>\n",
       "    <tr>\n",
       "      <th>75%</th>\n",
       "      <td>22.000000</td>\n",
       "      <td>5426.250000</td>\n",
       "      <td>48.700000</td>\n",
       "      <td>3.000000</td>\n",
       "      <td>42.500000</td>\n",
       "    </tr>\n",
       "    <tr>\n",
       "      <th>max</th>\n",
       "      <td>26.000000</td>\n",
       "      <td>9250.000000</td>\n",
       "      <td>77.300000</td>\n",
       "      <td>268.000000</td>\n",
       "      <td>75.000000</td>\n",
       "    </tr>\n",
       "  </tbody>\n",
       "</table>\n",
       "</div>"
      ],
      "text/plain": [
       "       Kantons-Nummer  Gemeinde-Nummer  Stimmbeteiligung  \\\n",
       "count     2156.000000      2156.000000       2156.000000   \n",
       "mean        13.642393      3329.145640         44.463868   \n",
       "std          8.475139      2170.042968          7.001858   \n",
       "min          1.000000         1.000000         20.900000   \n",
       "25%          3.000000      1084.750000         40.000000   \n",
       "50%         17.000000      3338.500000         44.000000   \n",
       "75%         22.000000      5426.250000         48.700000   \n",
       "max         26.000000      9250.000000         77.300000   \n",
       "\n",
       "       ungültige Stimmzettel  Ja in Prozent  \n",
       "count            2156.000000    2156.000000  \n",
       "mean                4.400742      37.791976  \n",
       "std                14.789470       7.798848  \n",
       "min                 0.000000       0.000000  \n",
       "25%                 0.000000      32.700000  \n",
       "50%                 0.000000      37.200000  \n",
       "75%                 3.000000      42.500000  \n",
       "max               268.000000      75.000000  "
      ]
     },
     "execution_count": 4,
     "metadata": {},
     "output_type": "execute_result"
    }
   ],
   "source": [
    "data.describe()"
   ]
  },
  {
   "cell_type": "code",
   "execution_count": 5,
   "id": "fa379179",
   "metadata": {},
   "outputs": [
    {
     "data": {
      "text/plain": [
       "37.79197588126153"
      ]
     },
     "execution_count": 5,
     "metadata": {},
     "output_type": "execute_result"
    }
   ],
   "source": [
    "data[\"Ja in Prozent\"].mean()"
   ]
  },
  {
   "cell_type": "code",
   "execution_count": 6,
   "id": "fbea38b3",
   "metadata": {},
   "outputs": [
    {
     "data": {
      "text/plain": [
       "37.2"
      ]
     },
     "execution_count": 6,
     "metadata": {},
     "output_type": "execute_result"
    }
   ],
   "source": [
    "data[\"Ja in Prozent\"].median()"
   ]
  },
  {
   "cell_type": "code",
   "execution_count": 7,
   "id": "cb54a5fc",
   "metadata": {},
   "outputs": [
    {
     "data": {
      "text/plain": [
       "0    35.1\n",
       "dtype: float64"
      ]
     },
     "execution_count": 7,
     "metadata": {},
     "output_type": "execute_result"
    }
   ],
   "source": [
    "data[\"Ja in Prozent\"].mode()"
   ]
  },
  {
   "cell_type": "code",
   "execution_count": 8,
   "id": "0856b475",
   "metadata": {},
   "outputs": [
    {
     "data": {
      "text/plain": [
       "0.0"
      ]
     },
     "execution_count": 8,
     "metadata": {},
     "output_type": "execute_result"
    }
   ],
   "source": [
    "data[\"Ja in Prozent\"].min()"
   ]
  },
  {
   "cell_type": "code",
   "execution_count": 9,
   "id": "bd6967e0",
   "metadata": {},
   "outputs": [
    {
     "data": {
      "text/plain": [
       "75.0"
      ]
     },
     "execution_count": 9,
     "metadata": {},
     "output_type": "execute_result"
    }
   ],
   "source": [
    "data[\"Ja in Prozent\"].max()"
   ]
  },
  {
   "cell_type": "code",
   "execution_count": 10,
   "id": "740f0789",
   "metadata": {},
   "outputs": [
    {
     "data": {
      "text/plain": [
       "60.82203767180752"
      ]
     },
     "execution_count": 10,
     "metadata": {},
     "output_type": "execute_result"
    }
   ],
   "source": [
    "data[\"Ja in Prozent\"].var()"
   ]
  },
  {
   "cell_type": "code",
   "execution_count": 11,
   "id": "3994be73",
   "metadata": {},
   "outputs": [
    {
     "data": {
      "text/plain": [
       "7.798848483706266"
      ]
     },
     "execution_count": 11,
     "metadata": {},
     "output_type": "execute_result"
    }
   ],
   "source": [
    "data[\"Ja in Prozent\"].std()"
   ]
  },
  {
   "cell_type": "code",
   "execution_count": 12,
   "id": "d6010e99",
   "metadata": {},
   "outputs": [
    {
     "data": {
      "text/plain": [
       "81479.5"
      ]
     },
     "execution_count": 12,
     "metadata": {},
     "output_type": "execute_result"
    }
   ],
   "source": [
    "data[\"Ja in Prozent\"].sum()"
   ]
  },
  {
   "cell_type": "code",
   "execution_count": 13,
   "id": "42b19257",
   "metadata": {},
   "outputs": [
    {
     "data": {
      "text/plain": [
       "42.5"
      ]
     },
     "execution_count": 13,
     "metadata": {},
     "output_type": "execute_result"
    }
   ],
   "source": [
    "data[\"Ja in Prozent\"].quantile(.75)"
   ]
  },
  {
   "cell_type": "code",
   "execution_count": 14,
   "id": "5f67b505",
   "metadata": {},
   "outputs": [
    {
     "data": {
      "text/plain": [
       "42.5"
      ]
     },
     "execution_count": 14,
     "metadata": {},
     "output_type": "execute_result"
    }
   ],
   "source": [
    "def pct75(column):\n",
    "    return column.quantile(.75)\n",
    "\n",
    "data[\"Ja in Prozent\"].agg(pct75)"
   ]
  },
  {
   "cell_type": "code",
   "execution_count": 15,
   "id": "531c8bbb",
   "metadata": {},
   "outputs": [
    {
     "data": {
      "text/plain": [
       "Ja in Prozent       42.5\n",
       "Stimmbeteiligung    48.7\n",
       "dtype: float64"
      ]
     },
     "execution_count": 15,
     "metadata": {},
     "output_type": "execute_result"
    }
   ],
   "source": [
    "data[[\"Ja in Prozent\", \"Stimmbeteiligung\"]].agg(pct75)"
   ]
  },
  {
   "cell_type": "code",
   "execution_count": 16,
   "id": "7ea5ffd4",
   "metadata": {},
   "outputs": [
    {
     "data": {
      "text/html": [
       "<div>\n",
       "<style scoped>\n",
       "    .dataframe tbody tr th:only-of-type {\n",
       "        vertical-align: middle;\n",
       "    }\n",
       "\n",
       "    .dataframe tbody tr th {\n",
       "        vertical-align: top;\n",
       "    }\n",
       "\n",
       "    .dataframe thead th {\n",
       "        text-align: right;\n",
       "    }\n",
       "</style>\n",
       "<table border=\"1\" class=\"dataframe\">\n",
       "  <thead>\n",
       "    <tr style=\"text-align: right;\">\n",
       "      <th></th>\n",
       "      <th>Ja in Prozent</th>\n",
       "      <th>Stimmbeteiligung</th>\n",
       "    </tr>\n",
       "  </thead>\n",
       "  <tbody>\n",
       "    <tr>\n",
       "      <th>pct75</th>\n",
       "      <td>42.5</td>\n",
       "      <td>48.7</td>\n",
       "    </tr>\n",
       "    <tr>\n",
       "      <th>pct25</th>\n",
       "      <td>32.7</td>\n",
       "      <td>40.0</td>\n",
       "    </tr>\n",
       "  </tbody>\n",
       "</table>\n",
       "</div>"
      ],
      "text/plain": [
       "       Ja in Prozent  Stimmbeteiligung\n",
       "pct75           42.5              48.7\n",
       "pct25           32.7              40.0"
      ]
     },
     "execution_count": 16,
     "metadata": {},
     "output_type": "execute_result"
    }
   ],
   "source": [
    "def pct25(column):\n",
    "    return column.quantile(.25)\n",
    "\n",
    "data[[\"Ja in Prozent\", \"Stimmbeteiligung\"]].agg([pct75, pct25])"
   ]
  },
  {
   "cell_type": "code",
   "execution_count": 17,
   "id": "ef01aa35",
   "metadata": {},
   "outputs": [
    {
     "data": {
      "text/plain": [
       "0          0\n",
       "1          0\n",
       "2          0\n",
       "3          0\n",
       "4          0\n",
       "        ... \n",
       "2151    9387\n",
       "2152    9394\n",
       "2153    9405\n",
       "2154    9487\n",
       "2155    9488\n",
       "Name: ungültige Stimmzettel, Length: 2156, dtype: int64"
      ]
     },
     "execution_count": 17,
     "metadata": {},
     "output_type": "execute_result"
    }
   ],
   "source": [
    "data[\"ungültige Stimmzettel\"].cumsum()"
   ]
  }
 ],
 "metadata": {
  "kernelspec": {
   "display_name": "Python 3 (ipykernel)",
   "language": "python",
   "name": "python3"
  },
  "language_info": {
   "codemirror_mode": {
    "name": "ipython",
    "version": 3
   },
   "file_extension": ".py",
   "mimetype": "text/x-python",
   "name": "python",
   "nbconvert_exporter": "python",
   "pygments_lexer": "ipython3",
   "version": "3.9.7"
  }
 },
 "nbformat": 4,
 "nbformat_minor": 5
}
