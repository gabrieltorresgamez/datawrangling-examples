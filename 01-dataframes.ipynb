{
 "cells": [
  {
   "cell_type": "code",
   "execution_count": 1,
   "id": "778722c6",
   "metadata": {},
   "outputs": [],
   "source": [
    "import pandas as pd"
   ]
  },
  {
   "cell_type": "code",
   "execution_count": 2,
   "id": "857ccf8d",
   "metadata": {},
   "outputs": [],
   "source": [
    "data = pd.read_csv(\"20220213_VolksabstimmungStempelabgaben.csv\", delimiter = \";\")"
   ]
  },
  {
   "cell_type": "code",
   "execution_count": 3,
   "id": "e8a2fa5a",
   "metadata": {},
   "outputs": [
    {
     "data": {
      "text/html": [
       "<div>\n",
       "<style scoped>\n",
       "    .dataframe tbody tr th:only-of-type {\n",
       "        vertical-align: middle;\n",
       "    }\n",
       "\n",
       "    .dataframe tbody tr th {\n",
       "        vertical-align: top;\n",
       "    }\n",
       "\n",
       "    .dataframe thead th {\n",
       "        text-align: right;\n",
       "    }\n",
       "</style>\n",
       "<table border=\"1\" class=\"dataframe\">\n",
       "  <thead>\n",
       "    <tr style=\"text-align: right;\">\n",
       "      <th></th>\n",
       "      <th>Kantons-Nummer</th>\n",
       "      <th>Kanton</th>\n",
       "      <th>Gemeinde-Nummer</th>\n",
       "      <th>Gemeinde</th>\n",
       "      <th>Stimmberechtigte</th>\n",
       "      <th>eingelegte Stimmzettel</th>\n",
       "      <th>Stimmbeteiligung</th>\n",
       "      <th>leere Stimmzettel</th>\n",
       "      <th>ungültige Stimmzettel</th>\n",
       "      <th>gültige Stimmen</th>\n",
       "      <th>Ja-Stimmen</th>\n",
       "      <th>Nein-Stimmen</th>\n",
       "      <th>Ja in Prozent</th>\n",
       "    </tr>\n",
       "  </thead>\n",
       "  <tbody>\n",
       "    <tr>\n",
       "      <th>0</th>\n",
       "      <td>1</td>\n",
       "      <td>Zürich</td>\n",
       "      <td>1</td>\n",
       "      <td>Aeugst am Albis</td>\n",
       "      <td>1'415</td>\n",
       "      <td>771</td>\n",
       "      <td>54.5</td>\n",
       "      <td>10</td>\n",
       "      <td>0</td>\n",
       "      <td>761</td>\n",
       "      <td>301</td>\n",
       "      <td>460</td>\n",
       "      <td>39.6</td>\n",
       "    </tr>\n",
       "    <tr>\n",
       "      <th>1</th>\n",
       "      <td>1</td>\n",
       "      <td>Zürich</td>\n",
       "      <td>2</td>\n",
       "      <td>Affoltern am Albis</td>\n",
       "      <td>7'248</td>\n",
       "      <td>3'284</td>\n",
       "      <td>45.3</td>\n",
       "      <td>59</td>\n",
       "      <td>0</td>\n",
       "      <td>3'225</td>\n",
       "      <td>1'150</td>\n",
       "      <td>2'075</td>\n",
       "      <td>35.7</td>\n",
       "    </tr>\n",
       "    <tr>\n",
       "      <th>2</th>\n",
       "      <td>1</td>\n",
       "      <td>Zürich</td>\n",
       "      <td>3</td>\n",
       "      <td>Bonstetten</td>\n",
       "      <td>3'665</td>\n",
       "      <td>1'952</td>\n",
       "      <td>53.3</td>\n",
       "      <td>24</td>\n",
       "      <td>0</td>\n",
       "      <td>1'928</td>\n",
       "      <td>697</td>\n",
       "      <td>1'231</td>\n",
       "      <td>36.2</td>\n",
       "    </tr>\n",
       "    <tr>\n",
       "      <th>3</th>\n",
       "      <td>1</td>\n",
       "      <td>Zürich</td>\n",
       "      <td>4</td>\n",
       "      <td>Hausen am Albis</td>\n",
       "      <td>2'603</td>\n",
       "      <td>1'378</td>\n",
       "      <td>52.9</td>\n",
       "      <td>33</td>\n",
       "      <td>0</td>\n",
       "      <td>1'345</td>\n",
       "      <td>531</td>\n",
       "      <td>814</td>\n",
       "      <td>39.5</td>\n",
       "    </tr>\n",
       "    <tr>\n",
       "      <th>4</th>\n",
       "      <td>1</td>\n",
       "      <td>Zürich</td>\n",
       "      <td>5</td>\n",
       "      <td>Hedingen</td>\n",
       "      <td>2'504</td>\n",
       "      <td>1'396</td>\n",
       "      <td>55.8</td>\n",
       "      <td>24</td>\n",
       "      <td>0</td>\n",
       "      <td>1'372</td>\n",
       "      <td>509</td>\n",
       "      <td>863</td>\n",
       "      <td>37.1</td>\n",
       "    </tr>\n",
       "  </tbody>\n",
       "</table>\n",
       "</div>"
      ],
      "text/plain": [
       "   Kantons-Nummer  Kanton  Gemeinde-Nummer            Gemeinde  \\\n",
       "0               1  Zürich                1     Aeugst am Albis   \n",
       "1               1  Zürich                2  Affoltern am Albis   \n",
       "2               1  Zürich                3          Bonstetten   \n",
       "3               1  Zürich                4     Hausen am Albis   \n",
       "4               1  Zürich                5            Hedingen   \n",
       "\n",
       "  Stimmberechtigte eingelegte Stimmzettel  Stimmbeteiligung leere Stimmzettel  \\\n",
       "0            1'415                    771              54.5                10   \n",
       "1            7'248                  3'284              45.3                59   \n",
       "2            3'665                  1'952              53.3                24   \n",
       "3            2'603                  1'378              52.9                33   \n",
       "4            2'504                  1'396              55.8                24   \n",
       "\n",
       "   ungültige Stimmzettel gültige Stimmen Ja-Stimmen Nein-Stimmen  \\\n",
       "0                      0             761        301          460   \n",
       "1                      0           3'225      1'150        2'075   \n",
       "2                      0           1'928        697        1'231   \n",
       "3                      0           1'345        531          814   \n",
       "4                      0           1'372        509          863   \n",
       "\n",
       "   Ja in Prozent  \n",
       "0           39.6  \n",
       "1           35.7  \n",
       "2           36.2  \n",
       "3           39.5  \n",
       "4           37.1  "
      ]
     },
     "execution_count": 3,
     "metadata": {},
     "output_type": "execute_result"
    }
   ],
   "source": [
    "data.head()"
   ]
  },
  {
   "cell_type": "code",
   "execution_count": 4,
   "id": "fb99bc85",
   "metadata": {},
   "outputs": [
    {
     "name": "stdout",
     "output_type": "stream",
     "text": [
      "<class 'pandas.core.frame.DataFrame'>\n",
      "RangeIndex: 2156 entries, 0 to 2155\n",
      "Data columns (total 13 columns):\n",
      " #   Column                  Non-Null Count  Dtype  \n",
      "---  ------                  --------------  -----  \n",
      " 0   Kantons-Nummer          2156 non-null   int64  \n",
      " 1   Kanton                  2156 non-null   object \n",
      " 2   Gemeinde-Nummer         2156 non-null   int64  \n",
      " 3   Gemeinde                2156 non-null   object \n",
      " 4   Stimmberechtigte        2156 non-null   object \n",
      " 5   eingelegte Stimmzettel  2156 non-null   object \n",
      " 6   Stimmbeteiligung        2156 non-null   float64\n",
      " 7   leere Stimmzettel       2156 non-null   object \n",
      " 8   ungültige Stimmzettel   2156 non-null   int64  \n",
      " 9   gültige Stimmen         2156 non-null   object \n",
      " 10  Ja-Stimmen              2156 non-null   object \n",
      " 11  Nein-Stimmen            2156 non-null   object \n",
      " 12  Ja in Prozent           2156 non-null   float64\n",
      "dtypes: float64(2), int64(3), object(8)\n",
      "memory usage: 219.1+ KB\n"
     ]
    }
   ],
   "source": [
    "data.info()"
   ]
  },
  {
   "cell_type": "code",
   "execution_count": 5,
   "id": "cc22740d",
   "metadata": {},
   "outputs": [
    {
     "data": {
      "text/plain": [
       "(2156, 13)"
      ]
     },
     "execution_count": 5,
     "metadata": {},
     "output_type": "execute_result"
    }
   ],
   "source": [
    "data.shape"
   ]
  },
  {
   "cell_type": "code",
   "execution_count": 6,
   "id": "c19e4886",
   "metadata": {},
   "outputs": [
    {
     "data": {
      "text/html": [
       "<div>\n",
       "<style scoped>\n",
       "    .dataframe tbody tr th:only-of-type {\n",
       "        vertical-align: middle;\n",
       "    }\n",
       "\n",
       "    .dataframe tbody tr th {\n",
       "        vertical-align: top;\n",
       "    }\n",
       "\n",
       "    .dataframe thead th {\n",
       "        text-align: right;\n",
       "    }\n",
       "</style>\n",
       "<table border=\"1\" class=\"dataframe\">\n",
       "  <thead>\n",
       "    <tr style=\"text-align: right;\">\n",
       "      <th></th>\n",
       "      <th>Kantons-Nummer</th>\n",
       "      <th>Gemeinde-Nummer</th>\n",
       "      <th>Stimmbeteiligung</th>\n",
       "      <th>ungültige Stimmzettel</th>\n",
       "      <th>Ja in Prozent</th>\n",
       "    </tr>\n",
       "  </thead>\n",
       "  <tbody>\n",
       "    <tr>\n",
       "      <th>count</th>\n",
       "      <td>2156.000000</td>\n",
       "      <td>2156.000000</td>\n",
       "      <td>2156.000000</td>\n",
       "      <td>2156.000000</td>\n",
       "      <td>2156.000000</td>\n",
       "    </tr>\n",
       "    <tr>\n",
       "      <th>mean</th>\n",
       "      <td>13.642393</td>\n",
       "      <td>3329.145640</td>\n",
       "      <td>44.463868</td>\n",
       "      <td>4.400742</td>\n",
       "      <td>37.791976</td>\n",
       "    </tr>\n",
       "    <tr>\n",
       "      <th>std</th>\n",
       "      <td>8.475139</td>\n",
       "      <td>2170.042968</td>\n",
       "      <td>7.001858</td>\n",
       "      <td>14.789470</td>\n",
       "      <td>7.798848</td>\n",
       "    </tr>\n",
       "    <tr>\n",
       "      <th>min</th>\n",
       "      <td>1.000000</td>\n",
       "      <td>1.000000</td>\n",
       "      <td>20.900000</td>\n",
       "      <td>0.000000</td>\n",
       "      <td>0.000000</td>\n",
       "    </tr>\n",
       "    <tr>\n",
       "      <th>25%</th>\n",
       "      <td>3.000000</td>\n",
       "      <td>1084.750000</td>\n",
       "      <td>40.000000</td>\n",
       "      <td>0.000000</td>\n",
       "      <td>32.700000</td>\n",
       "    </tr>\n",
       "    <tr>\n",
       "      <th>50%</th>\n",
       "      <td>17.000000</td>\n",
       "      <td>3338.500000</td>\n",
       "      <td>44.000000</td>\n",
       "      <td>0.000000</td>\n",
       "      <td>37.200000</td>\n",
       "    </tr>\n",
       "    <tr>\n",
       "      <th>75%</th>\n",
       "      <td>22.000000</td>\n",
       "      <td>5426.250000</td>\n",
       "      <td>48.700000</td>\n",
       "      <td>3.000000</td>\n",
       "      <td>42.500000</td>\n",
       "    </tr>\n",
       "    <tr>\n",
       "      <th>max</th>\n",
       "      <td>26.000000</td>\n",
       "      <td>9250.000000</td>\n",
       "      <td>77.300000</td>\n",
       "      <td>268.000000</td>\n",
       "      <td>75.000000</td>\n",
       "    </tr>\n",
       "  </tbody>\n",
       "</table>\n",
       "</div>"
      ],
      "text/plain": [
       "       Kantons-Nummer  Gemeinde-Nummer  Stimmbeteiligung  \\\n",
       "count     2156.000000      2156.000000       2156.000000   \n",
       "mean        13.642393      3329.145640         44.463868   \n",
       "std          8.475139      2170.042968          7.001858   \n",
       "min          1.000000         1.000000         20.900000   \n",
       "25%          3.000000      1084.750000         40.000000   \n",
       "50%         17.000000      3338.500000         44.000000   \n",
       "75%         22.000000      5426.250000         48.700000   \n",
       "max         26.000000      9250.000000         77.300000   \n",
       "\n",
       "       ungültige Stimmzettel  Ja in Prozent  \n",
       "count            2156.000000    2156.000000  \n",
       "mean                4.400742      37.791976  \n",
       "std                14.789470       7.798848  \n",
       "min                 0.000000       0.000000  \n",
       "25%                 0.000000      32.700000  \n",
       "50%                 0.000000      37.200000  \n",
       "75%                 3.000000      42.500000  \n",
       "max               268.000000      75.000000  "
      ]
     },
     "execution_count": 6,
     "metadata": {},
     "output_type": "execute_result"
    }
   ],
   "source": [
    "data.describe()"
   ]
  },
  {
   "cell_type": "code",
   "execution_count": 7,
   "id": "bae67832",
   "metadata": {},
   "outputs": [
    {
     "data": {
      "text/plain": [
       "array([[1, 'Zürich', 1, ..., '301', '460', 39.6],\n",
       "       [1, 'Zürich', 2, ..., \"1'150\", \"2'075\", 35.7],\n",
       "       [1, 'Zürich', 3, ..., '697', \"1'231\", 36.2],\n",
       "       ...,\n",
       "       [22, 'Vaud', 9220, ..., \"2'264\", \"2'815\", 44.6],\n",
       "       [23, 'Valais / Wallis', 9230, ..., '639', '692', 48.0],\n",
       "       [25, 'Genève', 9250, ..., \"2'661\", \"4'583\", 36.7]], dtype=object)"
      ]
     },
     "execution_count": 7,
     "metadata": {},
     "output_type": "execute_result"
    }
   ],
   "source": [
    "data.values"
   ]
  },
  {
   "cell_type": "code",
   "execution_count": 8,
   "id": "b4d55566",
   "metadata": {},
   "outputs": [
    {
     "data": {
      "text/plain": [
       "Index(['Kantons-Nummer', 'Kanton', 'Gemeinde-Nummer', 'Gemeinde',\n",
       "       'Stimmberechtigte', 'eingelegte Stimmzettel', 'Stimmbeteiligung',\n",
       "       'leere Stimmzettel', 'ungültige Stimmzettel', 'gültige Stimmen',\n",
       "       'Ja-Stimmen', 'Nein-Stimmen', 'Ja in Prozent'],\n",
       "      dtype='object')"
      ]
     },
     "execution_count": 8,
     "metadata": {},
     "output_type": "execute_result"
    }
   ],
   "source": [
    "data.columns"
   ]
  },
  {
   "cell_type": "code",
   "execution_count": 9,
   "id": "328055a9",
   "metadata": {},
   "outputs": [
    {
     "data": {
      "text/plain": [
       "RangeIndex(start=0, stop=2156, step=1)"
      ]
     },
     "execution_count": 9,
     "metadata": {},
     "output_type": "execute_result"
    }
   ],
   "source": [
    "data.index"
   ]
  }
 ],
 "metadata": {
  "kernelspec": {
   "display_name": "Python 3 (ipykernel)",
   "language": "python",
   "name": "python3"
  },
  "language_info": {
   "codemirror_mode": {
    "name": "ipython",
    "version": 3
   },
   "file_extension": ".py",
   "mimetype": "text/x-python",
   "name": "python",
   "nbconvert_exporter": "python",
   "pygments_lexer": "ipython3",
   "version": "3.9.7"
  }
 },
 "nbformat": 4,
 "nbformat_minor": 5
}
