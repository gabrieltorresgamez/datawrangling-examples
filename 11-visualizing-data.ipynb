{
 "cells": [
  {
   "cell_type": "code",
   "execution_count": 1,
   "id": "63a660bd",
   "metadata": {},
   "outputs": [],
   "source": [
    "import pandas as pd\n",
    "import numpy as np\n",
    "import matplotlib.pyplot as plt"
   ]
  },
  {
   "cell_type": "code",
   "execution_count": 2,
   "id": "e46a8230",
   "metadata": {},
   "outputs": [],
   "source": [
    "data = pd.read_json(\"2022-03-04-spotify.json\")"
   ]
  },
  {
   "cell_type": "code",
   "execution_count": 3,
   "id": "2d781728",
   "metadata": {},
   "outputs": [],
   "source": [
    "data[\"endTime\"] = pd.to_datetime(data[\"endTime\"], format='%Y-%m-%d %H:%M')\n",
    "data[\"month\"] = data[\"endTime\"].dt.to_period(\"M\")"
   ]
  },
  {
   "cell_type": "code",
   "execution_count": 4,
   "id": "f6c85a4c",
   "metadata": {},
   "outputs": [
    {
     "data": {
      "text/html": [
       "<div>\n",
       "<style scoped>\n",
       "    .dataframe tbody tr th:only-of-type {\n",
       "        vertical-align: middle;\n",
       "    }\n",
       "\n",
       "    .dataframe tbody tr th {\n",
       "        vertical-align: top;\n",
       "    }\n",
       "\n",
       "    .dataframe thead th {\n",
       "        text-align: right;\n",
       "    }\n",
       "</style>\n",
       "<table border=\"1\" class=\"dataframe\">\n",
       "  <thead>\n",
       "    <tr style=\"text-align: right;\">\n",
       "      <th>month</th>\n",
       "      <th>2021-06</th>\n",
       "      <th>2021-07</th>\n",
       "      <th>2021-08</th>\n",
       "      <th>2021-09</th>\n",
       "      <th>2021-10</th>\n",
       "      <th>2021-11</th>\n",
       "      <th>2021-12</th>\n",
       "    </tr>\n",
       "    <tr>\n",
       "      <th>artistName</th>\n",
       "      <th></th>\n",
       "      <th></th>\n",
       "      <th></th>\n",
       "      <th></th>\n",
       "      <th></th>\n",
       "      <th></th>\n",
       "      <th></th>\n",
       "    </tr>\n",
       "  </thead>\n",
       "  <tbody>\n",
       "    <tr>\n",
       "      <th>Tristam</th>\n",
       "      <td>45759039</td>\n",
       "      <td>8384051</td>\n",
       "      <td>21082347</td>\n",
       "      <td>25976707</td>\n",
       "      <td>16338292</td>\n",
       "      <td>16198019</td>\n",
       "      <td>42075194</td>\n",
       "    </tr>\n",
       "    <tr>\n",
       "      <th>ILLENIUM</th>\n",
       "      <td>4864156</td>\n",
       "      <td>19632684</td>\n",
       "      <td>13338372</td>\n",
       "      <td>13629200</td>\n",
       "      <td>12611913</td>\n",
       "      <td>65877389</td>\n",
       "      <td>37353173</td>\n",
       "    </tr>\n",
       "    <tr>\n",
       "      <th>Sullivan King</th>\n",
       "      <td>29623495</td>\n",
       "      <td>27936175</td>\n",
       "      <td>7336617</td>\n",
       "      <td>8046804</td>\n",
       "      <td>19154626</td>\n",
       "      <td>16893357</td>\n",
       "      <td>13239254</td>\n",
       "    </tr>\n",
       "    <tr>\n",
       "      <th>Architects</th>\n",
       "      <td>24996171</td>\n",
       "      <td>38028417</td>\n",
       "      <td>24550736</td>\n",
       "      <td>13163429</td>\n",
       "      <td>3228658</td>\n",
       "      <td>3010222</td>\n",
       "      <td>4752912</td>\n",
       "    </tr>\n",
       "    <tr>\n",
       "      <th>Seven Lions</th>\n",
       "      <td>5490138</td>\n",
       "      <td>12008038</td>\n",
       "      <td>9797441</td>\n",
       "      <td>16467303</td>\n",
       "      <td>21611748</td>\n",
       "      <td>12679889</td>\n",
       "      <td>14283673</td>\n",
       "    </tr>\n",
       "    <tr>\n",
       "      <th>...</th>\n",
       "      <td>...</td>\n",
       "      <td>...</td>\n",
       "      <td>...</td>\n",
       "      <td>...</td>\n",
       "      <td>...</td>\n",
       "      <td>...</td>\n",
       "      <td>...</td>\n",
       "    </tr>\n",
       "    <tr>\n",
       "      <th>Rogue</th>\n",
       "      <td>1130617</td>\n",
       "      <td>1572793</td>\n",
       "      <td>260494</td>\n",
       "      <td>1258216</td>\n",
       "      <td>1079099</td>\n",
       "      <td>1862800</td>\n",
       "      <td>615957</td>\n",
       "    </tr>\n",
       "    <tr>\n",
       "      <th>Marc Anthony</th>\n",
       "      <td>0</td>\n",
       "      <td>3312396</td>\n",
       "      <td>3670460</td>\n",
       "      <td>537708</td>\n",
       "      <td>205201</td>\n",
       "      <td>0</td>\n",
       "      <td>0</td>\n",
       "    </tr>\n",
       "    <tr>\n",
       "      <th>Dodge &amp; Fuski</th>\n",
       "      <td>0</td>\n",
       "      <td>0</td>\n",
       "      <td>0</td>\n",
       "      <td>0</td>\n",
       "      <td>1972357</td>\n",
       "      <td>4172051</td>\n",
       "      <td>1227393</td>\n",
       "    </tr>\n",
       "    <tr>\n",
       "      <th>Sleep Token</th>\n",
       "      <td>0</td>\n",
       "      <td>0</td>\n",
       "      <td>0</td>\n",
       "      <td>0</td>\n",
       "      <td>2020845</td>\n",
       "      <td>4017730</td>\n",
       "      <td>1075798</td>\n",
       "    </tr>\n",
       "    <tr>\n",
       "      <th>V O E</th>\n",
       "      <td>0</td>\n",
       "      <td>0</td>\n",
       "      <td>0</td>\n",
       "      <td>3733733</td>\n",
       "      <td>1801382</td>\n",
       "      <td>440690</td>\n",
       "      <td>1076568</td>\n",
       "    </tr>\n",
       "  </tbody>\n",
       "</table>\n",
       "<p>100 rows × 7 columns</p>\n",
       "</div>"
      ],
      "text/plain": [
       "month           2021-06   2021-07   2021-08   2021-09   2021-10   2021-11  \\\n",
       "artistName                                                                  \n",
       "Tristam        45759039   8384051  21082347  25976707  16338292  16198019   \n",
       "ILLENIUM        4864156  19632684  13338372  13629200  12611913  65877389   \n",
       "Sullivan King  29623495  27936175   7336617   8046804  19154626  16893357   \n",
       "Architects     24996171  38028417  24550736  13163429   3228658   3010222   \n",
       "Seven Lions     5490138  12008038   9797441  16467303  21611748  12679889   \n",
       "...                 ...       ...       ...       ...       ...       ...   \n",
       "Rogue           1130617   1572793    260494   1258216   1079099   1862800   \n",
       "Marc Anthony          0   3312396   3670460    537708    205201         0   \n",
       "Dodge & Fuski         0         0         0         0   1972357   4172051   \n",
       "Sleep Token           0         0         0         0   2020845   4017730   \n",
       "V O E                 0         0         0   3733733   1801382    440690   \n",
       "\n",
       "month           2021-12  \n",
       "artistName               \n",
       "Tristam        42075194  \n",
       "ILLENIUM       37353173  \n",
       "Sullivan King  13239254  \n",
       "Architects      4752912  \n",
       "Seven Lions    14283673  \n",
       "...                 ...  \n",
       "Rogue            615957  \n",
       "Marc Anthony          0  \n",
       "Dodge & Fuski   1227393  \n",
       "Sleep Token     1075798  \n",
       "V O E           1076568  \n",
       "\n",
       "[100 rows x 7 columns]"
      ]
     },
     "execution_count": 4,
     "metadata": {},
     "output_type": "execute_result"
    }
   ],
   "source": [
    "pivot_1 = data.pivot_table(values=\"msPlayed\", columns=\"month\", index=\"artistName\", fill_value=0.0, aggfunc=np.sum)\n",
    "pivot_1 = pivot_1.loc[(pivot_1!=0).any(axis=1), \"2021-06\":\"2021-12\"]\n",
    "pivot_1 = pivot_1.loc[pivot_1.sum(axis = 1).sort_values(ascending = False).index][:100]\n",
    "pivot_1"
   ]
  },
  {
   "cell_type": "code",
   "execution_count": 5,
   "id": "4a131fb9",
   "metadata": {},
   "outputs": [
    {
     "data": {
      "image/png": "[encoded data removed]",
      "text/plain": [
       "<Figure size 432x288 with 1 Axes>"
      ]
     },
     "metadata": {
      "needs_background": "light"
     },
     "output_type": "display_data"
    }
   ],
   "source": [
    "pivot_1[\"2021-06\"].hist(bins = 50)\n",
    "plt.show()"
   ]
  },
  {
   "cell_type": "code",
   "execution_count": 6,
   "id": "aa440db0",
   "metadata": {},
   "outputs": [
    {
     "data": {
      "text/plain": [
       "<AxesSubplot:title={'center':'listening activity 2021-06'}, xlabel='artistName'>"
      ]
     },
     "execution_count": 6,
     "metadata": {},
     "output_type": "execute_result"
    },
    {
     "data": {
      "image/png": "[encoded data removed]",
      "text/plain": [
       "<Figure size 432x288 with 1 Axes>"
      ]
     },
     "metadata": {
      "needs_background": "light"
     },
     "output_type": "display_data"
    }
   ],
   "source": [
    "pivot_1[\"2021-06\"][:10].plot(kind = \"bar\",\n",
    "                             title = \"listening activity 2021-06\")"
   ]
  },
  {
   "cell_type": "code",
   "execution_count": 7,
   "id": "4d910319",
   "metadata": {},
   "outputs": [
    {
     "data": {
      "text/html": [
       "<div>\n",
       "<style scoped>\n",
       "    .dataframe tbody tr th:only-of-type {\n",
       "        vertical-align: middle;\n",
       "    }\n",
       "\n",
       "    .dataframe tbody tr th {\n",
       "        vertical-align: top;\n",
       "    }\n",
       "\n",
       "    .dataframe thead th {\n",
       "        text-align: right;\n",
       "    }\n",
       "</style>\n",
       "<table border=\"1\" class=\"dataframe\">\n",
       "  <thead>\n",
       "    <tr style=\"text-align: right;\">\n",
       "      <th></th>\n",
       "      <th>month</th>\n",
       "      <th>msPlayed</th>\n",
       "    </tr>\n",
       "  </thead>\n",
       "  <tbody>\n",
       "    <tr>\n",
       "      <th>0</th>\n",
       "      <td>2021-03</td>\n",
       "      <td>38561092</td>\n",
       "    </tr>\n",
       "    <tr>\n",
       "      <th>1</th>\n",
       "      <td>2021-04</td>\n",
       "      <td>103819909</td>\n",
       "    </tr>\n",
       "    <tr>\n",
       "      <th>2</th>\n",
       "      <td>2021-05</td>\n",
       "      <td>67421186</td>\n",
       "    </tr>\n",
       "    <tr>\n",
       "      <th>3</th>\n",
       "      <td>2021-06</td>\n",
       "      <td>45759039</td>\n",
       "    </tr>\n",
       "    <tr>\n",
       "      <th>4</th>\n",
       "      <td>2021-07</td>\n",
       "      <td>8384051</td>\n",
       "    </tr>\n",
       "    <tr>\n",
       "      <th>5</th>\n",
       "      <td>2021-08</td>\n",
       "      <td>21082347</td>\n",
       "    </tr>\n",
       "    <tr>\n",
       "      <th>6</th>\n",
       "      <td>2021-09</td>\n",
       "      <td>25976707</td>\n",
       "    </tr>\n",
       "    <tr>\n",
       "      <th>7</th>\n",
       "      <td>2021-10</td>\n",
       "      <td>16338292</td>\n",
       "    </tr>\n",
       "    <tr>\n",
       "      <th>8</th>\n",
       "      <td>2021-11</td>\n",
       "      <td>16198019</td>\n",
       "    </tr>\n",
       "    <tr>\n",
       "      <th>9</th>\n",
       "      <td>2021-12</td>\n",
       "      <td>42075194</td>\n",
       "    </tr>\n",
       "    <tr>\n",
       "      <th>10</th>\n",
       "      <td>2022-01</td>\n",
       "      <td>20017786</td>\n",
       "    </tr>\n",
       "    <tr>\n",
       "      <th>11</th>\n",
       "      <td>2022-02</td>\n",
       "      <td>16814081</td>\n",
       "    </tr>\n",
       "    <tr>\n",
       "      <th>12</th>\n",
       "      <td>2022-03</td>\n",
       "      <td>3441726</td>\n",
       "    </tr>\n",
       "  </tbody>\n",
       "</table>\n",
       "</div>"
      ],
      "text/plain": [
       "      month   msPlayed\n",
       "0   2021-03   38561092\n",
       "1   2021-04  103819909\n",
       "2   2021-05   67421186\n",
       "3   2021-06   45759039\n",
       "4   2021-07    8384051\n",
       "5   2021-08   21082347\n",
       "6   2021-09   25976707\n",
       "7   2021-10   16338292\n",
       "8   2021-11   16198019\n",
       "9   2021-12   42075194\n",
       "10  2022-01   20017786\n",
       "11  2022-02   16814081\n",
       "12  2022-03    3441726"
      ]
     },
     "execution_count": 7,
     "metadata": {},
     "output_type": "execute_result"
    }
   ],
   "source": [
    "tristam_month = data[data[\"artistName\"] == \"Tristam\"].groupby(\"month\").agg(np.sum).reset_index()\n",
    "tristam_month"
   ]
  },
  {
   "cell_type": "code",
   "execution_count": 8,
   "id": "e01b47bd",
   "metadata": {},
   "outputs": [
    {
     "data": {
      "image/png": "[encoded data removed]",
      "text/plain": [
       "<Figure size 432x288 with 1 Axes>"
      ]
     },
     "metadata": {
      "needs_background": "light"
     },
     "output_type": "display_data"
    }
   ],
   "source": [
    "tristam_month.plot(x = \"month\", y = \"msPlayed\", kind = \"line\", rot = 45)\n",
    "plt.show()"
   ]
  },
  {
   "cell_type": "markdown",
   "id": "14eaf758",
   "metadata": {},
   "source": [
    "The following plots dont make any sense, but they work :)"
   ]
  },
  {
   "cell_type": "code",
   "execution_count": 9,
   "id": "ec9007f7",
   "metadata": {},
   "outputs": [
    {
     "data": {
      "image/png": "[encoded data removed]",
      "text/plain": [
       "<Figure size 432x288 with 1 Axes>"
      ]
     },
     "metadata": {
      "needs_background": "light"
     },
     "output_type": "display_data"
    }
   ],
   "source": [
    "data[data[\"artistName\"] == \"Tristam\"].plot(x = \"endTime\", y = \"msPlayed\", kind = \"scatter\")\n",
    "plt.show()"
   ]
  },
  {
   "cell_type": "code",
   "execution_count": 10,
   "id": "eccc9159",
   "metadata": {},
   "outputs": [
    {
     "data": {
      "image/png": "[encoded data removed]",
      "text/plain": [
       "<Figure size 432x288 with 1 Axes>"
      ]
     },
     "metadata": {
      "needs_background": "light"
     },
     "output_type": "display_data"
    }
   ],
   "source": [
    "data[data[\"artistName\"] == \"Tristam\"][\"endTime\"].hist()\n",
    "data[data[\"artistName\"] == \"Sullivan King\"][\"endTime\"].hist()\n",
    "plt.legend([\"Trishi\", \"Sully\"])\n",
    "plt.show()"
   ]
  }
 ],
 "metadata": {
  "kernelspec": {
   "display_name": "Python 3 (ipykernel)",
   "language": "python",
   "name": "python3"
  },
  "language_info": {
   "codemirror_mode": {
    "name": "ipython",
    "version": 3
   },
   "file_extension": ".py",
   "mimetype": "text/x-python",
   "name": "python",
   "nbconvert_exporter": "python",
   "pygments_lexer": "ipython3",
   "version": "3.9.7"
  }
 },
 "nbformat": 4,
 "nbformat_minor": 5
}
